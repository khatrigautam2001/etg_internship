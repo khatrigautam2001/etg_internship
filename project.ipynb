{
 "cells": [
  {
   "cell_type": "markdown",
   "source": [
    "## Local file Operation"
   ],
   "metadata": {}
  },
  {
   "cell_type": "code",
   "execution_count": 34,
   "source": [
    "import json\r\n",
    "with open(\"Inventory.json\") as f:\r\n",
    "  js = f.read()\r\n",
    "  inventory = json.loads(js)\r\n",
    "\r\n",
    "with open(\"Sales.json\") as f:\r\n",
    "  js = f.read()\r\n",
    "  sales = json.loads(js)\r\n",
    "\r\n",
    "def updateRecords():\r\n",
    "  with open(\"Inventory.json\", \"w\") as f:\r\n",
    "    json.dump(inventory, f)"
   ],
   "outputs": [],
   "metadata": {}
  },
  {
   "cell_type": "markdown",
   "source": [
    "## Buy function for buy operation"
   ],
   "metadata": {}
  },
  {
   "cell_type": "code",
   "execution_count": 35,
   "source": [
    "def sell():\r\n",
    "  id = input(\"Enter Product ID: \")\r\n",
    "  quant = int(input(\"Quantity: \"))\r\n",
    "  item = inventory[id]\r\n",
    "  if(item['quantity'] == 0):\r\n",
    "    print(\"Sorry, we don't have this item now\")\r\n",
    "  elif(item['quantity']<quant):\r\n",
    "    print(\"Sorry, we have only ${} product\".format(item['quantity']))\r\n",
    "  else:\r\n",
    "    item['quantity'] = item['quantity']-quant\r\n",
    "    print(\"*\"*20)\r\n",
    "    print(\"Product id: \" + id)\r\n",
    "    print(\"Name: \" + item['name'])\r\n",
    "    print(\"Brand: \" + item['brand'])\r\n",
    "    print(\"Expiry: \" + item['expiry'])\r\n",
    "    print(\"Price: \" + str(item['price']))\r\n",
    "    print(\"Quantity: \" + str(quant))\r\n",
    "    print(\"-\"*20)\r\n",
    "    print(\"Bill: \" + str(item['price']*quant))\r\n",
    "    print(\"*\"*20)\r\n",
    "    updateRecords()\r\n",
    "    # For sales.json\r\n",
    "    sold = {'name':item['name'], 'brand':item['brand'], 'expiry':item['expiry'],'price':item['price'], 'quantity':quant}\r\n",
    "    sales[int(id)] = sold\r\n",
    "    with open(\"Sales.json\", \"w\") as f:\r\n",
    "      json.dump(sales, f)\r\n",
    "    "
   ],
   "outputs": [],
   "metadata": {}
  },
  {
   "cell_type": "code",
   "execution_count": 15,
   "source": [
    "def addToInventory():\r\n",
    "  id = int(list(inventory.keys())[-1]) +1\r\n",
    "  name = input(\"Name: \")\r\n",
    "  brand = input(\"Brand: \" )\r\n",
    "  expiry = input(\"Expiry: \")\r\n",
    "  price = input(\"Price: \")\r\n",
    "  quantity = input(\"Quantity: \")\r\n",
    "  addInventoryDict = {'name':name, 'brand':brand, 'expiry':expiry,'price':price, 'quantity':quantity}\r\n",
    "  inventory[id] = addInventoryDict\r\n",
    "  updateRecords()\r\n",
    "\r\n",
    "  "
   ],
   "outputs": [],
   "metadata": {}
  },
  {
   "cell_type": "code",
   "execution_count": 37,
   "source": [
    "sell()\r\n",
    "addToInventory()"
   ],
   "outputs": [
    {
     "output_type": "stream",
     "name": "stdout",
     "text": [
      "********************\n",
      "Product id: 1020\n",
      "Name: 5 star\n",
      "Brand: cadbery\n",
      "Expiry: 08-12-2022\n",
      "Price: 15\n",
      "Quantity: 1\n",
      "--------------------\n",
      "Bill: 15\n",
      "********************\n"
     ]
    }
   ],
   "metadata": {}
  }
 ],
 "metadata": {
  "orig_nbformat": 4,
  "language_info": {
   "name": "python",
   "version": "3.8.3",
   "mimetype": "text/x-python",
   "codemirror_mode": {
    "name": "ipython",
    "version": 3
   },
   "pygments_lexer": "ipython3",
   "nbconvert_exporter": "python",
   "file_extension": ".py"
  },
  "kernelspec": {
   "name": "python3",
   "display_name": "Python 3.8.3 64-bit"
  },
  "interpreter": {
   "hash": "b3ba2566441a7c06988d0923437866b63cedc61552a5af99d1f4fb67d367b25f"
  }
 },
 "nbformat": 4,
 "nbformat_minor": 2
}