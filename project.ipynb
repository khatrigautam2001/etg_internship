{
 "cells": [
  {
   "cell_type": "markdown",
   "source": [
    "## Local file Operation"
   ],
   "metadata": {}
  },
  {
   "cell_type": "code",
   "execution_count": 35,
   "source": [
    "import json\r\n",
    "inventory = \"\"\r\n",
    "\r\n",
    "def getRecords():\r\n",
    "  with open(\"Inventory.json\") as f:\r\n",
    "    js = f.read()\r\n",
    "    global inventory\r\n",
    "    inventory = json.loads(js)\r\n",
    "\r\n",
    "def updateRecords():\r\n",
    "  with open(\"Inventory.json\", \"w\") as f:\r\n",
    "    js = json.dumps(inventory)\r\n",
    "    f.write(js)\r\n",
    "\r\n",
    "getRecords()"
   ],
   "outputs": [],
   "metadata": {}
  },
  {
   "cell_type": "markdown",
   "source": [
    "## Buy function for buy operation"
   ],
   "metadata": {}
  },
  {
   "cell_type": "code",
   "execution_count": 36,
   "source": [
    "\r\n",
    "def sell(id, quant):\r\n",
    "  item = inventory[id]\r\n",
    "  if(item['quantity'] == 0):\r\n",
    "    print(\"Sorry, we don't have this item now\")\r\n",
    "  elif(item['quantity']<quant):\r\n",
    "    print(\"Sorry, we have only ${} product\".format(item['quantity']))\r\n",
    "  else:\r\n",
    "    item['quantity'] = item['quantity']-quant\r\n",
    "    print(\"*\"*20)\r\n",
    "    print(\"Product id: \" + id)\r\n",
    "    print(\"Name: \" + item['name'])\r\n",
    "    print(\"Brand: \" + item['brand'])\r\n",
    "    print(\"Expiry: \" + item['expiry'])\r\n",
    "    print(\"Price: \" + str(item['price']))\r\n",
    "    print(\"Quantity: \" + str(quant))\r\n",
    "    print(\"-\"*20)\r\n",
    "    print(\"Bill: \" + str(item['price']*quant))\r\n",
    "    print(\"*\"*20)\r\n",
    "    updateRecords()"
   ],
   "outputs": [],
   "metadata": {}
  },
  {
   "cell_type": "code",
   "execution_count": 37,
   "source": [
    "# id = input(\"Enter Product ID: \")\r\n",
    "# quantity = int(input(\"Quantity: \"))\r\n",
    "# sell(id, quantity)"
   ],
   "outputs": [],
   "metadata": {}
  },
  {
   "cell_type": "code",
   "execution_count": 38,
   "source": [
    "temp = list(inventory.keys())\r\n",
    "print(temp[-1])"
   ],
   "outputs": [
    {
     "output_type": "stream",
     "name": "stdout",
     "text": [
      "1030\n"
     ]
    }
   ],
   "metadata": {}
  },
  {
   "cell_type": "code",
   "execution_count": 39,
   "source": [
    "def addToInventory():\r\n",
    "  id = int(list(inventory.keys())[-1]) +1\r\n",
    "  name = input(\"Name: \")\r\n",
    "  brand = input(\"Brand: \" )\r\n",
    "  expiry = input(\"Expiry: \")\r\n",
    "  price = input(\"Price: \")\r\n",
    "  quantity = input(\"Quantity: \")\r\n",
    "  addInventoryDict = {'name':name, 'brand':brand, 'expiry':expiry,'price':price, 'quantity':quantity}\r\n",
    "  inventory[id] = addInventoryDict\r\n",
    "  updateRecords()\r\n",
    "\r\n",
    "  "
   ],
   "outputs": [],
   "metadata": {}
  },
  {
   "cell_type": "code",
   "execution_count": 40,
   "source": [
    "addToInventory()"
   ],
   "outputs": [],
   "metadata": {}
  }
 ],
 "metadata": {
  "orig_nbformat": 4,
  "language_info": {
   "name": "python",
   "version": "3.8.3",
   "mimetype": "text/x-python",
   "codemirror_mode": {
    "name": "ipython",
    "version": 3
   },
   "pygments_lexer": "ipython3",
   "nbconvert_exporter": "python",
   "file_extension": ".py"
  },
  "kernelspec": {
   "name": "python3",
   "display_name": "Python 3.8.3 64-bit ('base': conda)"
  },
  "interpreter": {
   "hash": "b3ba2566441a7c06988d0923437866b63cedc61552a5af99d1f4fb67d367b25f"
  }
 },
 "nbformat": 4,
 "nbformat_minor": 2
}